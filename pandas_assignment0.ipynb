{
 "cells": [
  {
   "cell_type": "markdown",
   "id": "a1ec25d3-a4fc-48c1-85ce-a010e427f09c",
   "metadata": {},
   "source": [
    "Q1. Create a Pandas Series that contains the following data: 4, 8, 15, 16, 23, and 42. Then, print the series."
   ]
  },
  {
   "cell_type": "code",
   "execution_count": 5,
   "id": "c158b901-88de-4cf8-af20-283df3884a5b",
   "metadata": {},
   "outputs": [
    {
     "data": {
      "text/plain": [
       "0     4\n",
       "1     8\n",
       "2    15\n",
       "3    16\n",
       "4    23\n",
       "5    42\n",
       "dtype: int64"
      ]
     },
     "execution_count": 5,
     "metadata": {},
     "output_type": "execute_result"
    }
   ],
   "source": [
    "import pandas as pd\n",
    "data=[4,8,15,16,23,42]\n",
    "df =pd.Series(data)\n",
    "df"
   ]
  },
  {
   "cell_type": "markdown",
   "id": "abe22a45-bd35-4f71-919b-22e4ca8be81d",
   "metadata": {},
   "source": [
    "Q2. Create a variable of list type containing 10 elements in it, and apply pandas.Series function on the\n",
    "variable print it."
   ]
  },
  {
   "cell_type": "code",
   "execution_count": 6,
   "id": "31ebaf7f-fe08-40bd-b9ae-c2f43f37a606",
   "metadata": {},
   "outputs": [
    {
     "name": "stdout",
     "output_type": "stream",
     "text": [
      "0     1\n",
      "1     2\n",
      "2     3\n",
      "3     4\n",
      "4     5\n",
      "5     6\n",
      "6     7\n",
      "7     8\n",
      "8     9\n",
      "9    10\n",
      "dtype: int64\n"
     ]
    }
   ],
   "source": [
    "mylist= [1,2,3,4,5,6,7,8,9,10]\n",
    "series = pd.Series(mylist)\n",
    "print(series)"
   ]
  },
  {
   "cell_type": "markdown",
   "id": "4c889b63-8fe6-4861-94ea-1adbe924c364",
   "metadata": {},
   "source": [
    "Q3. Create a Pandas DataFrame that contains the following data:\n",
    "\n",
    "Then, print the DataFrame."
   ]
  },
  {
   "cell_type": "code",
   "execution_count": 7,
   "id": "6a0c6662-7152-4585-83f6-f225d03410f1",
   "metadata": {},
   "outputs": [
    {
     "name": "stdout",
     "output_type": "stream",
     "text": [
      "    Name   Age   Gender\n",
      "0   Alice    25  female\n",
      "1     BOB    30    male\n",
      "2  Claire    27  female\n"
     ]
    }
   ],
   "source": [
    "data = {\n",
    "    \"Name \":[\"Alice\",\"BOB\",\"Claire\"],\n",
    "    \"Age \":[25,30,27],\n",
    "    \"Gender\":[\"female\",\"male\",\"female\"] }\n",
    "\n",
    "df =pd.DataFrame(data)\n",
    "\n",
    "print(df)"
   ]
  },
  {
   "cell_type": "markdown",
   "id": "ab1341e2-8bc9-4e6f-ae9c-69f8a5d3ec07",
   "metadata": {},
   "source": [
    "Q4. What is ‘DataFrame’ in pandas and how is it different from pandas.series? Explain with an example."
   ]
  },
  {
   "cell_type": "markdown",
   "id": "1e815dde-2366-4070-9a90-bf8f7a705202",
   "metadata": {},
   "source": [
    "In Pandas, a DataFrame is a two-dimensional, tabular data structure that is designed to store and manipulate heterogeneous data. It consists of rows and columns, where each column can have a different data type."
   ]
  },
  {
   "cell_type": "code",
   "execution_count": 8,
   "id": "31660ed4-25fd-46d0-b0aa-7f6abdd71699",
   "metadata": {},
   "outputs": [
    {
     "name": "stdout",
     "output_type": "stream",
     "text": [
      "    Name   Age   Gender\n",
      "0   Alice    25  female\n",
      "1     BOB    30    male\n",
      "2  Claire    27  female\n"
     ]
    }
   ],
   "source": [
    "data = {\n",
    "    \"Name \":[\"Alice\",\"BOB\",\"Claire\"],\n",
    "    \"Age \":[25,30,27],\n",
    "    \"Gender\":[\"female\",\"male\",\"female\"] }\n",
    "\n",
    "df =pd.DataFrame(data)\n",
    "\n",
    "print(df)"
   ]
  },
  {
   "cell_type": "markdown",
   "id": "94b57b73-f24e-4dc1-b18a-72c513e11ecc",
   "metadata": {},
   "source": [
    " Series is a one-dimensional labeled array in Pandas. It can be thought of as a single column of a DataFrame. A DataFrame can be seen as a collection of Series where each Series represents a column."
   ]
  },
  {
   "cell_type": "code",
   "execution_count": 9,
   "id": "d824d90e-fa97-44ae-8722-4f4c09bbe40d",
   "metadata": {},
   "outputs": [
    {
     "name": "stdout",
     "output_type": "stream",
     "text": [
      "0     1\n",
      "1     2\n",
      "2     3\n",
      "3     4\n",
      "4     5\n",
      "5     6\n",
      "6     7\n",
      "7     8\n",
      "8     9\n",
      "9    10\n",
      "dtype: int64\n"
     ]
    }
   ],
   "source": [
    "mylist= [1,2,3,4,5,6,7,8,9,10]\n",
    "series = pd.Series(mylist)\n",
    "print(series)"
   ]
  },
  {
   "cell_type": "markdown",
   "id": "72641a6e-e39e-4fe5-844f-3f7266d11351",
   "metadata": {},
   "source": [
    "Q5. What are some common functions you can use to manipulate data in a Pandas DataFrame? Can\n",
    "you give an example of when you might use one of these functions?"
   ]
  },
  {
   "cell_type": "markdown",
   "id": "b7640584-0609-409c-90eb-004d073aea22",
   "metadata": {},
   "source": [
    "ANS : series is one of the function used to just mention the index number in data\n"
   ]
  },
  {
   "cell_type": "code",
   "execution_count": 10,
   "id": "b1afe2f7-f900-4910-9ce3-2346019fae9b",
   "metadata": {},
   "outputs": [
    {
     "name": "stdout",
     "output_type": "stream",
     "text": [
      "0     1\n",
      "1     2\n",
      "2     3\n",
      "3     4\n",
      "4     5\n",
      "5     6\n",
      "6     7\n",
      "7     8\n",
      "8     9\n",
      "9    10\n",
      "dtype: int64\n"
     ]
    }
   ],
   "source": [
    "\n",
    "mylist= [1,2,3,4,5,6,7,8,9,10]\n",
    "series = pd.Series(mylist)\n",
    "print(series)"
   ]
  },
  {
   "cell_type": "markdown",
   "id": "b6a83a99-bffd-419e-a23c-ab7fce7b90fd",
   "metadata": {},
   "source": [
    "Q6. Which of the following is mutable in nature Series, DataFrame, Panel?"
   ]
  },
  {
   "cell_type": "markdown",
   "id": "2f6f3def-d139-457c-b57a-f6914aa625a0",
   "metadata": {},
   "source": [
    "Series ,dataframe are mutable and panel is not in the  updated version of panda library"
   ]
  },
  {
   "cell_type": "markdown",
   "id": "255f76bd-9832-4f1c-9784-9427bbcafd0e",
   "metadata": {},
   "source": [
    "Q7. Create a DataFrame using multiple Series. Explain with an example."
   ]
  },
  {
   "cell_type": "code",
   "execution_count": 12,
   "id": "17e523a4-7c06-4f77-a6c1-b9e0c6ff2e71",
   "metadata": {},
   "outputs": [
    {
     "name": "stdout",
     "output_type": "stream",
     "text": [
      "      Name  Age           City\n",
      "0    Alice   25       New York\n",
      "1      Bob   30  San Francisco\n",
      "2  Charlie   35    Los Angeles\n"
     ]
    }
   ],
   "source": [
    "import pandas as pd\n",
    "\n",
    "# Creating multiple Series\n",
    "name_series = pd.Series(['Alice', 'Bob', 'Charlie'])\n",
    "age_series = pd.Series([25, 30, 35])\n",
    "city_series = pd.Series(['New York', 'San Francisco', 'Los Angeles'])\n",
    "\n",
    "# Creating a dictionary with Series as values and column names as keys\n",
    "data = {\n",
    "    'Name': name_series,\n",
    "    'Age': age_series,\n",
    "    'City': city_series\n",
    "}\n",
    "\n",
    "# Creating a DataFrame from the dictionary\n",
    "df = pd.DataFrame(data)\n",
    "\n",
    "# Displaying the DataFrame\n",
    "print(df)\n"
   ]
  },
  {
   "cell_type": "code",
   "execution_count": null,
   "id": "58025257-487c-4bb5-b329-5ed6d8678921",
   "metadata": {},
   "outputs": [],
   "source": []
  }
 ],
 "metadata": {
  "kernelspec": {
   "display_name": "Python 3 (ipykernel)",
   "language": "python",
   "name": "python3"
  },
  "language_info": {
   "codemirror_mode": {
    "name": "ipython",
    "version": 3
   },
   "file_extension": ".py",
   "mimetype": "text/x-python",
   "name": "python",
   "nbconvert_exporter": "python",
   "pygments_lexer": "ipython3",
   "version": "3.10.8"
  }
 },
 "nbformat": 4,
 "nbformat_minor": 5
}
