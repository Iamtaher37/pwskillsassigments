{
 "cells": [
  {
   "cell_type": "markdown",
   "id": "62417849-7bd1-4c30-9349-930fd17377ab",
   "metadata": {},
   "source": [
    "Create a vehicle class with an init method having instance variables as name_of_vehicle, max_speed\n",
    "and average_of_vehicle."
   ]
  },
  {
   "cell_type": "code",
   "execution_count": 30,
   "id": "d01d5238-8101-4ac7-b3e9-ba8d64631763",
   "metadata": {},
   "outputs": [],
   "source": [
    "class vehicle:\n",
    "    def __init__(self,name,speeed,average):\n",
    "        self.name_of_vehicle=name\n",
    "        self.max_speed=0\n",
    "        self.average_of_vehicle=average"
   ]
  },
  {
   "cell_type": "markdown",
   "id": "df63f803-8aa6-4a9a-a3e4-fe79b51571d4",
   "metadata": {},
   "source": [
    "Create a child class car from the vehicle class created in Que 1, which will inherit the vehicle class.\n",
    "Create a method named seating_capacity which takes capacity as an argument and returns the name of\n",
    "the vehicle and its seating capacity."
   ]
  },
  {
   "cell_type": "code",
   "execution_count": 31,
   "id": "4d7e20f0-2ac5-4b54-9838-ba68267d1d79",
   "metadata": {},
   "outputs": [],
   "source": [
    "class car(vehicle):\n",
    "    def  seating_capacity(self,capacity):\n",
    "         self.seatingss= 4 if capacity <0 else capacity"
   ]
  },
  {
   "cell_type": "code",
   "execution_count": 32,
   "id": "a56c30a5-fa5a-4598-8a02-5bfdc2bba0ba",
   "metadata": {},
   "outputs": [],
   "source": [
    "car_obj=car(\"mercedees\",170,35)"
   ]
  },
  {
   "cell_type": "code",
   "execution_count": 34,
   "id": "f8dc6ad2-886d-46b3-b085-e4cee2006e21",
   "metadata": {},
   "outputs": [],
   "source": [
    "car_obj.seating_capacity(2)"
   ]
  },
  {
   "cell_type": "code",
   "execution_count": 38,
   "id": "6a34a347-d5da-4239-ac79-360d34cd0799",
   "metadata": {},
   "outputs": [
    {
     "data": {
      "text/plain": [
       "2"
      ]
     },
     "execution_count": 38,
     "metadata": {},
     "output_type": "execute_result"
    }
   ],
   "source": [
    "car_obj.seatingss"
   ]
  },
  {
   "cell_type": "code",
   "execution_count": 40,
   "id": "a6715b77-052e-48e2-8258-45971c25fd13",
   "metadata": {},
   "outputs": [
    {
     "data": {
      "text/plain": [
       "'mercedees'"
      ]
     },
     "execution_count": 40,
     "metadata": {},
     "output_type": "execute_result"
    }
   ],
   "source": [
    "car_obj.name_of_vehicle"
   ]
  },
  {
   "cell_type": "markdown",
   "id": "49bf5704-da23-41e1-bec8-c50b908992be",
   "metadata": {},
   "source": [
    "Q3. What is multiple inheritance? Write a python code to demonstrate multiple inheritance."
   ]
  },
  {
   "cell_type": "code",
   "execution_count": 41,
   "id": "ea88edec-2de4-45b6-bf81-a556f42824bb",
   "metadata": {},
   "outputs": [],
   "source": [
    "## multiple inheritance means to inherit the properties of class 1 and class 2 into the class 3 "
   ]
  },
  {
   "cell_type": "code",
   "execution_count": 42,
   "id": "af48a7f0-138f-4065-9375-db90b3fa26df",
   "metadata": {},
   "outputs": [],
   "source": [
    "class class1:\n",
    "    def test_class1(self):\n",
    "        return \"this is the class1 \""
   ]
  },
  {
   "cell_type": "code",
   "execution_count": 43,
   "id": "252c8bbb-b83c-4203-87c8-b45d9859dcd8",
   "metadata": {},
   "outputs": [],
   "source": [
    "class class2:\n",
    "    def test_class2(self):\n",
    "        return \"this is the class2 \""
   ]
  },
  {
   "cell_type": "code",
   "execution_count": 44,
   "id": "beb36cd0-0200-4b07-8365-030326daae61",
   "metadata": {},
   "outputs": [],
   "source": [
    "class class3(class1,class2):\n",
    "    pass"
   ]
  },
  {
   "cell_type": "code",
   "execution_count": 45,
   "id": "a66658b4-0098-4708-92ba-f900f788bf32",
   "metadata": {},
   "outputs": [],
   "source": [
    "class3_obj=class3()"
   ]
  },
  {
   "cell_type": "code",
   "execution_count": 46,
   "id": "9176dd7e-937b-4ef1-beaf-c648232760e8",
   "metadata": {},
   "outputs": [
    {
     "data": {
      "text/plain": [
       "'this is the class1 '"
      ]
     },
     "execution_count": 46,
     "metadata": {},
     "output_type": "execute_result"
    }
   ],
   "source": [
    "class3_obj.test_class1()"
   ]
  },
  {
   "cell_type": "code",
   "execution_count": 47,
   "id": "e65e684d-609f-4927-a9a4-d29c1f8dce3b",
   "metadata": {},
   "outputs": [
    {
     "data": {
      "text/plain": [
       "'this is the class2 '"
      ]
     },
     "execution_count": 47,
     "metadata": {},
     "output_type": "execute_result"
    }
   ],
   "source": [
    "class3_obj.test_class2()"
   ]
  },
  {
   "cell_type": "markdown",
   "id": "71535848-fdac-4007-aa4b-e59ee848b31a",
   "metadata": {},
   "source": [
    "Q4. What are getter and setter in python? Create a class and create a getter and a setter method in this\n",
    "class."
   ]
  },
  {
   "cell_type": "code",
   "execution_count": 48,
   "id": "1f0a617f-cb58-4198-95e8-cf4e41b59727",
   "metadata": {},
   "outputs": [],
   "source": [
    "## getter is a method created when the user wants to get the vvalue of a function\n",
    "## setter is a method created when the user want to set thee value in a fucntion\n",
    "## both are only created when the class is encapsulated"
   ]
  },
  {
   "cell_type": "code",
   "execution_count": 68,
   "id": "5543ca37-d16e-48e5-9fb4-4b66beb79567",
   "metadata": {},
   "outputs": [],
   "source": [
    "class bank_details:\n",
    "    def __init__(self,balance):\n",
    "        self.__balance=balance\n",
    "     \n",
    "        \n",
    "    def get_details(self):\n",
    "        return self.__balance\n",
    "    def set_details(self,new):\n",
    "         self.__balance=new"
   ]
  },
  {
   "cell_type": "code",
   "execution_count": 69,
   "id": "ac2ea711-0b45-4808-bd67-561d1d626f64",
   "metadata": {},
   "outputs": [],
   "source": [
    "bk=bank_details(10000)"
   ]
  },
  {
   "cell_type": "code",
   "execution_count": 70,
   "id": "120aab46-ed18-47e3-bbfd-4b36cade5ca2",
   "metadata": {},
   "outputs": [
    {
     "data": {
      "text/plain": [
       "10000"
      ]
     },
     "execution_count": 70,
     "metadata": {},
     "output_type": "execute_result"
    }
   ],
   "source": [
    "bk.get_details()"
   ]
  },
  {
   "cell_type": "code",
   "execution_count": 71,
   "id": "2e364645-25fb-488a-9cb0-e87bc83b8dc3",
   "metadata": {},
   "outputs": [],
   "source": [
    "bk.set_details(5000)"
   ]
  },
  {
   "cell_type": "code",
   "execution_count": 72,
   "id": "90c33836-0d41-479f-9e3e-f9cfa9a829e0",
   "metadata": {},
   "outputs": [
    {
     "data": {
      "text/plain": [
       "5000"
      ]
     },
     "execution_count": 72,
     "metadata": {},
     "output_type": "execute_result"
    }
   ],
   "source": [
    "bk.get_details()"
   ]
  },
  {
   "cell_type": "markdown",
   "id": "3c825242-588e-4e20-967b-f2f564deb98a",
   "metadata": {},
   "source": [
    "Q5.What is method overriding in python? Write a python code to demonstrate method overriding."
   ]
  },
  {
   "cell_type": "code",
   "execution_count": 80,
   "id": "42b61994-4c25-4c77-bd60-a5e37bd6f9a5",
   "metadata": {},
   "outputs": [],
   "source": [
    "## method overridig means to cancel out the previois method with a new one"
   ]
  },
  {
   "cell_type": "code",
   "execution_count": 73,
   "id": "4b5d46dd-170e-4aac-8059-10e496b20480",
   "metadata": {},
   "outputs": [],
   "source": [
    "class autho:\n",
    "    def permission(self):\n",
    "        return \"the permission is granted\""
   ]
  },
  {
   "cell_type": "code",
   "execution_count": 74,
   "id": "7fccc8f4-b465-4e9c-b53f-53cf6cdf60ba",
   "metadata": {},
   "outputs": [],
   "source": [
    "class revoke(autho):\n",
    "    def revokked(self):\n",
    "        return\"first take the permission of principal\""
   ]
  },
  {
   "cell_type": "code",
   "execution_count": 75,
   "id": "1d6dd0a0-5985-45c6-9d4c-30aaffce6012",
   "metadata": {},
   "outputs": [],
   "source": [
    "au=autho()"
   ]
  },
  {
   "cell_type": "code",
   "execution_count": 76,
   "id": "b4f0892c-9f47-422d-aa33-0c54eba681cc",
   "metadata": {},
   "outputs": [],
   "source": [
    "re=revoke()"
   ]
  },
  {
   "cell_type": "code",
   "execution_count": 77,
   "id": "010e9116-6aee-40bf-837d-b5dff3028272",
   "metadata": {},
   "outputs": [
    {
     "data": {
      "text/plain": [
       "'the permission is granted'"
      ]
     },
     "execution_count": 77,
     "metadata": {},
     "output_type": "execute_result"
    }
   ],
   "source": [
    "au.permission()"
   ]
  },
  {
   "cell_type": "code",
   "execution_count": 78,
   "id": "f0a6d195-3d20-4370-907b-849564d6494a",
   "metadata": {},
   "outputs": [
    {
     "data": {
      "text/plain": [
       "'the permission is granted'"
      ]
     },
     "execution_count": 78,
     "metadata": {},
     "output_type": "execute_result"
    }
   ],
   "source": [
    "re.permission()"
   ]
  },
  {
   "cell_type": "code",
   "execution_count": 79,
   "id": "87abbde3-3403-4a51-82f2-f00557a4b4df",
   "metadata": {},
   "outputs": [
    {
     "data": {
      "text/plain": [
       "'first take the permission of principal'"
      ]
     },
     "execution_count": 79,
     "metadata": {},
     "output_type": "execute_result"
    }
   ],
   "source": [
    "re.revokked()"
   ]
  },
  {
   "cell_type": "code",
   "execution_count": null,
   "id": "9df9c346-be7f-4802-bb95-e2e327f94140",
   "metadata": {},
   "outputs": [],
   "source": []
  }
 ],
 "metadata": {
  "kernelspec": {
   "display_name": "Python 3 (ipykernel)",
   "language": "python",
   "name": "python3"
  },
  "language_info": {
   "codemirror_mode": {
    "name": "ipython",
    "version": 3
   },
   "file_extension": ".py",
   "mimetype": "text/x-python",
   "name": "python",
   "nbconvert_exporter": "python",
   "pygments_lexer": "ipython3",
   "version": "3.10.8"
  }
 },
 "nbformat": 4,
 "nbformat_minor": 5
}
