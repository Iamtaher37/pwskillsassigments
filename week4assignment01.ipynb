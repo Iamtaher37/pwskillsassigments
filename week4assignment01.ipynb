{
 "cells": [
  {
   "cell_type": "markdown",
   "id": "6c8128fc-7c2e-4f33-a8ee-6222555e8119",
   "metadata": {},
   "source": [
    "Q1. Explain Class and Object with respect to Object-Oriented Programming. Give a suitable example."
   ]
  },
  {
   "cell_type": "code",
   "execution_count": 1,
   "id": "f880c7c7-5930-4d2f-b50b-a67168f60e74",
   "metadata": {},
   "outputs": [],
   "source": [
    "# # class is a blueprint in which we can define properties and functions for example class can be of \"car\"\n",
    "# # object is a varible in which the classs can be stored ,we can create different object with reference to same class examp\n",
    "# example like mercedes,bmw,audi are object of class car"
   ]
  },
  {
   "cell_type": "code",
   "execution_count": 2,
   "id": "8adbf9cb-b2dd-44f6-a38a-b9be04d6e437",
   "metadata": {},
   "outputs": [],
   "source": [
    "class car:\n",
    "    def __init__(self,year,model):\n",
    "        self.year=year\n",
    "        self.model=model"
   ]
  },
  {
   "cell_type": "code",
   "execution_count": 3,
   "id": "6c234401-c390-418f-b600-807f8c9946ea",
   "metadata": {},
   "outputs": [],
   "source": [
    "mercedes=car(2002,\"S class\")"
   ]
  },
  {
   "cell_type": "code",
   "execution_count": 4,
   "id": "419295a2-3f95-4dcd-a7f4-40a09f655e88",
   "metadata": {},
   "outputs": [],
   "source": [
    "audi =car(1990,\"V8\")"
   ]
  },
  {
   "cell_type": "code",
   "execution_count": 5,
   "id": "c2f94bd0-2127-4b1f-a1cb-e3c1c634c97b",
   "metadata": {},
   "outputs": [
    {
     "data": {
      "text/plain": [
       "'S class'"
      ]
     },
     "execution_count": 5,
     "metadata": {},
     "output_type": "execute_result"
    }
   ],
   "source": [
    "mercedes.model"
   ]
  },
  {
   "cell_type": "code",
   "execution_count": 6,
   "id": "cb9f70ba-7192-47ac-b4dd-b1bc14223089",
   "metadata": {},
   "outputs": [
    {
     "data": {
      "text/plain": [
       "1990"
      ]
     },
     "execution_count": 6,
     "metadata": {},
     "output_type": "execute_result"
    }
   ],
   "source": [
    "audi.year"
   ]
  },
  {
   "cell_type": "markdown",
   "id": "c2408534-be8a-4233-b7aa-56237f95028f",
   "metadata": {},
   "source": [
    "Q2. Name the four pillars of OOPs."
   ]
  },
  {
   "cell_type": "code",
   "execution_count": 7,
   "id": "2052e482-3280-457f-ae86-a7e4125a6f56",
   "metadata": {},
   "outputs": [],
   "source": [
    "# The four pillars of Object-Oriented Programming (OOP) are:\n",
    "\n",
    "# 1. **Encapsulation:** This refers to the bundling of data (attributes) and methods (functions) that operate on the data \n",
    "# into a single unit known as a class. Encapsulation helps in hiding the internal details of an object and restricting \n",
    "# access to its internal state.\n",
    "\n",
    "# 2. **Inheritance:** Inheritance is a mechanism that allows a class to inherit properties and behaviors from another class. \n",
    "# The class that is inherited from is called the base or parent class, and the class that inherits is called the derived or\n",
    "# child class. Inheritance promotes code reuse and establishes a hierarchy of classes.\n",
    "\n",
    "# 3. **Polymorphism:** Polymorphism means \"many forms.\" It allows objects of different classes to be treated as objects of \n",
    "# a common base class. Polymorphism enables the use of a single interface to represent different types of objects and provides \n",
    "# a way for a class to provide a specific implementation of a method that is already defined by its parent class or interface.\n",
    "\n",
    "# 4. **Abstraction:** Abstraction involves simplifying complex systems by modeling classes based on the essential properties\n",
    "# and behaviors they share. It allows the programmer to focus on the relevant aspects of an object while ignoring \n",
    "# unnecessary details. Abstraction is achieved through the use of abstract classes and interfaces."
   ]
  },
  {
   "cell_type": "markdown",
   "id": "5bf9855e-2721-4d8c-bfad-9dbd3a146b54",
   "metadata": {},
   "source": [
    "Q3. Explain why the __init__() function is used. Give a suitable example."
   ]
  },
  {
   "cell_type": "code",
   "execution_count": 8,
   "id": "af84c186-d6dc-464e-b373-a66e37eaaf1e",
   "metadata": {},
   "outputs": [],
   "source": [
    "## init function is used for the inittializttion in class and for passing values to the variabels defined"
   ]
  },
  {
   "cell_type": "code",
   "execution_count": 9,
   "id": "8b3df1f1-b353-483a-8ae8-55807a481974",
   "metadata": {},
   "outputs": [],
   "source": [
    "class init:\n",
    "    def __init__(self,name,emailid):\n",
    "        self.name=name\n",
    "        self.emailid=emailid"
   ]
  },
  {
   "cell_type": "code",
   "execution_count": 10,
   "id": "3b646165-c952-4c8c-9746-0a03b8bf0aee",
   "metadata": {},
   "outputs": [],
   "source": [
    "ini=init(\"taher\",\"tahersadri36@gmail.com\")"
   ]
  },
  {
   "cell_type": "code",
   "execution_count": 11,
   "id": "9ef765b7-5f97-4d32-a32e-9559e0134dab",
   "metadata": {},
   "outputs": [
    {
     "data": {
      "text/plain": [
       "('tahersadri36@gmail.com', 'taher')"
      ]
     },
     "execution_count": 11,
     "metadata": {},
     "output_type": "execute_result"
    }
   ],
   "source": [
    "ini.emailid,ini.name"
   ]
  },
  {
   "cell_type": "markdown",
   "id": "cc293b66-12df-46cd-b7e3-b08f831d3c4e",
   "metadata": {},
   "source": [
    "Q4. Why self is used in OOPs?"
   ]
  },
  {
   "cell_type": "code",
   "execution_count": 12,
   "id": "2ccdf58f-0ce8-4544-979d-8cdc2b2abb7e",
   "metadata": {},
   "outputs": [],
   "source": [
    "## self is used for pointing out that the method is pointing towards its class for the refernce when called out for getting the\n",
    "#values"
   ]
  },
  {
   "cell_type": "markdown",
   "id": "5a6c237d-95cf-4528-b96f-cb92728bb732",
   "metadata": {},
   "source": [
    "Q5. What is inheritance? Give an example for each type of inheritance."
   ]
  },
  {
   "cell_type": "code",
   "execution_count": 13,
   "id": "bb954852-eaf9-4dff-a927-e5ef064d97d9",
   "metadata": {},
   "outputs": [],
   "source": [
    "# ## inheritance means that the classes can inherit property of its parent class just like a child inheritng the characteristics\n",
    "# from his parents"
   ]
  },
  {
   "cell_type": "code",
   "execution_count": 14,
   "id": "64e1c893-cc8d-4080-8fe7-232745d1e456",
   "metadata": {},
   "outputs": [
    {
     "data": {
      "text/plain": [
       "'This class properties will be inherited by the child class'"
      ]
     },
     "execution_count": 14,
     "metadata": {},
     "output_type": "execute_result"
    }
   ],
   "source": [
    "class parent_class:\n",
    "    def test_meth(self):\n",
    "        return \"This class properties will be inherited by the child class\"\n",
    "    \n",
    "class child_class(parent_class):\n",
    "    pass\n",
    "\n",
    "child_class_obj=child_class()\n",
    "child_class_obj.test_meth()"
   ]
  },
  {
   "cell_type": "code",
   "execution_count": 16,
   "id": "16bf5a24-410e-4323-b0d4-a16b6217f6f5",
   "metadata": {},
   "outputs": [
    {
     "data": {
      "text/plain": [
       "'this is the second class of multilabel inheritance'"
      ]
     },
     "execution_count": 16,
     "metadata": {},
     "output_type": "execute_result"
    }
   ],
   "source": [
    "class class1:\n",
    "    def test_class1(self):\n",
    "        return \"this is the first class of multilabel inheritance\"\n",
    "    \n",
    "class class2(class1):\n",
    "    def test_class2(self):\n",
    "        return \"this is the second class of multilabel inheritance\"\n",
    "\n",
    "class class3(class2):\n",
    "    pass\n",
    "\n",
    "class3_obj=class3()\n",
    "\n",
    "class3_obj.test_class2()\n",
    "# class3_obj.test_class1()"
   ]
  },
  {
   "cell_type": "code",
   "execution_count": 17,
   "id": "5b32ece1-60a6-4f7e-a8a2-cc6c93ddd297",
   "metadata": {},
   "outputs": [
    {
     "data": {
      "text/plain": [
       "'this is the class1 '"
      ]
     },
     "execution_count": 17,
     "metadata": {},
     "output_type": "execute_result"
    }
   ],
   "source": [
    "class class1:\n",
    "    def test_class1(self):\n",
    "        return \"this is the class1 \"\n",
    "    \n",
    "class class2:\n",
    "    def test_class2(self):\n",
    "        return \"this is the class2 \"\n",
    "\n",
    "class class3(class1,class2):\n",
    "    pass\n",
    "\n",
    "class3_obj=class3()\n",
    "class3_obj.test_class1()"
   ]
  },
  {
   "cell_type": "code",
   "execution_count": null,
   "id": "c249316c-00f3-4f7f-91e2-4d1d79d1d3cf",
   "metadata": {},
   "outputs": [],
   "source": []
  }
 ],
 "metadata": {
  "kernelspec": {
   "display_name": "Python 3 (ipykernel)",
   "language": "python",
   "name": "python3"
  },
  "language_info": {
   "codemirror_mode": {
    "name": "ipython",
    "version": 3
   },
   "file_extension": ".py",
   "mimetype": "text/x-python",
   "name": "python",
   "nbconvert_exporter": "python",
   "pygments_lexer": "ipython3",
   "version": "3.10.8"
  }
 },
 "nbformat": 4,
 "nbformat_minor": 5
}
