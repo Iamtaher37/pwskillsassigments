{
 "cells": [
  {
   "cell_type": "markdown",
   "id": "431116f4-2849-43ea-8667-5ee3525aa54f",
   "metadata": {},
   "source": [
    "Q1. What is Abstraction in OOps? Explain with an example."
   ]
  },
  {
   "cell_type": "markdown",
   "id": "547f7b21-7804-4e2e-a4cb-c2b46228d073",
   "metadata": {},
   "source": [
    " Abstraction simply means to jut create an empty blueprint which will be used for differentt classes \n",
    " and give them their desired output"
   ]
  },
  {
   "cell_type": "code",
   "execution_count": 11,
   "id": "b8aae9e0-8b9d-4408-9722-7efbe0b92861",
   "metadata": {},
   "outputs": [],
   "source": [
    "import abc\n",
    "class blueprint:\n",
    "    \n",
    "    abc.abstractmethod\n",
    "    def student_details(self):\n",
    "        pass\n",
    "    \n",
    "    abc.abstractmethod\n",
    "    def courser_details(self):\n",
    "        pass"
   ]
  },
  {
   "cell_type": "code",
   "execution_count": 3,
   "id": "619248e4-8601-425b-a995-43711354f837",
   "metadata": {},
   "outputs": [],
   "source": [
    "class datasciecnc(blueprint):\n",
    "    def student_details(self):\n",
    "        return\"this will pass information of students in data science\"\n",
    "    \n",
    "    def courser_details(self):\n",
    "        return \"this course is data science\"\n",
    "    "
   ]
  },
  {
   "cell_type": "code",
   "execution_count": 4,
   "id": "808b948c-5b77-47ba-bdf3-00309e132bf6",
   "metadata": {},
   "outputs": [],
   "source": [
    "class webdev(blueprint):\n",
    "    def student_details(self):\n",
    "        return\"this will pass information of students in webdev\"\n",
    "    \n",
    "    def courser_details(self):\n",
    "        return \"this course is webdev\"\n",
    "    "
   ]
  },
  {
   "cell_type": "code",
   "execution_count": 5,
   "id": "f8c8d3a2-af8f-48f3-9092-d5c21cf57fcd",
   "metadata": {},
   "outputs": [],
   "source": [
    "ds=datasciecnc()\n",
    "wb=webdev()"
   ]
  },
  {
   "cell_type": "code",
   "execution_count": 7,
   "id": "4097b573-a3fc-4c30-9a89-a264595a2ef7",
   "metadata": {},
   "outputs": [
    {
     "data": {
      "text/plain": [
       "'this course is data science'"
      ]
     },
     "execution_count": 7,
     "metadata": {},
     "output_type": "execute_result"
    }
   ],
   "source": [
    "ds.courser_details()"
   ]
  },
  {
   "cell_type": "code",
   "execution_count": 8,
   "id": "af14c556-45c1-4331-ba8a-5749b891d1e2",
   "metadata": {},
   "outputs": [
    {
     "data": {
      "text/plain": [
       "'this course is webdev'"
      ]
     },
     "execution_count": 8,
     "metadata": {},
     "output_type": "execute_result"
    }
   ],
   "source": [
    "wb.courser_details()"
   ]
  },
  {
   "cell_type": "markdown",
   "id": "92985e9c-7d34-4616-8af7-df29dde8cd67",
   "metadata": {},
   "source": [
    "Q2. Differentiate between Abstraction and Encapsulation. Explain with an example."
   ]
  },
  {
   "cell_type": "code",
   "execution_count": 9,
   "id": "48d876f9-5c3e-4bb2-9c3b-d9d2bc1774f5",
   "metadata": {},
   "outputs": [],
   "source": [
    "# ABSTRACTION : Its a blueprint which will behave different for every object createed\n",
    "# ENCAPSULATION : Its a technique to protect and keep private the methods from the user to avoid modify and viewing"
   ]
  },
  {
   "cell_type": "code",
   "execution_count": 16,
   "id": "57c00a9a-7f3c-4e14-89b8-e7fcc95b3a66",
   "metadata": {},
   "outputs": [],
   "source": [
    "### ABSTRACTIOM\n",
    "\n",
    "import abc\n",
    "class blueprint1:\n",
    "    \n",
    "    abc.abstractmethod\n",
    "    def student_details1(self):\n",
    "        pass"
   ]
  },
  {
   "cell_type": "code",
   "execution_count": 17,
   "id": "3d6ae267-4d25-478a-8a96-d762d4b2f386",
   "metadata": {},
   "outputs": [
    {
     "data": {
      "text/plain": [
       "'this will pass information of students in webdev'"
      ]
     },
     "execution_count": 17,
     "metadata": {},
     "output_type": "execute_result"
    }
   ],
   "source": [
    "class datasciecnc(blueprint1):\n",
    "    def student_details1(self):\n",
    "        return\"this will pass information of students in data science\"\n",
    "    \n",
    "class webdev(blueprint1):\n",
    "    def student_details1(self):\n",
    "        return\"this will pass information of students in webdev\"\n",
    "    \n",
    "ds=datasciecnc()\n",
    "wb=webdev()\n",
    "\n",
    "ds.student_details1()\n",
    "wb.student_details1()"
   ]
  },
  {
   "cell_type": "code",
   "execution_count": 30,
   "id": "2ddecc6e-324f-4bc3-b65a-5a0c81ea9373",
   "metadata": {},
   "outputs": [],
   "source": [
    "### ENCAPSULATION\n",
    "\n",
    "class encap:\n",
    "    def __init__(self,car_price,car_name):\n",
    "        self.__car_price=car_price\n",
    "        self.car_name=car_name\n",
    "        \n",
    "    def get_price(self):\n",
    "        return self.__car_price"
   ]
  },
  {
   "cell_type": "code",
   "execution_count": 31,
   "id": "58db08c6-b015-465b-ad8a-8727a2f7e90a",
   "metadata": {},
   "outputs": [],
   "source": [
    "e=encap(140000,\"mercedes\")"
   ]
  },
  {
   "cell_type": "code",
   "execution_count": 32,
   "id": "cb833701-2ef8-4bb1-8bf3-f0a3ee1c3587",
   "metadata": {},
   "outputs": [
    {
     "data": {
      "text/plain": [
       "'mercedes'"
      ]
     },
     "execution_count": 32,
     "metadata": {},
     "output_type": "execute_result"
    }
   ],
   "source": [
    "e.car_name"
   ]
  },
  {
   "cell_type": "code",
   "execution_count": 33,
   "id": "640258ad-babb-44cf-a667-cd02881205ee",
   "metadata": {},
   "outputs": [
    {
     "data": {
      "text/plain": [
       "140000"
      ]
     },
     "execution_count": 33,
     "metadata": {},
     "output_type": "execute_result"
    }
   ],
   "source": [
    "e.get_price()"
   ]
  },
  {
   "cell_type": "markdown",
   "id": "22b9dc51-bec3-490a-97a1-316946e0fc68",
   "metadata": {},
   "source": [
    "Q3. What is abc module in python? Why is it used?"
   ]
  },
  {
   "cell_type": "markdown",
   "id": "fd045488-f7c4-4eac-bf1b-4dd999dbdfe5",
   "metadata": {},
   "source": [
    "ans-- abc module is used when we have to use abtration method in our class ,and it is used for creating the blueprint and for later use"
   ]
  },
  {
   "cell_type": "markdown",
   "id": "00707091-a57c-47a3-86c2-870e2413c604",
   "metadata": {},
   "source": [
    "Q4. How can we achieve data abstraction?"
   ]
  },
  {
   "cell_type": "markdown",
   "id": "5d4af16c-37e7-43f3-af63-14eb2088e79d",
   "metadata": {},
   "source": [
    "ans - data abstraction can be achieved by using a module called as abc ,in which we will create methods and let them be empty and then whenever we are creating a object for any class we will use this abstrated class for passing the data mmultiple time which will return into saving number of lines in code and time "
   ]
  },
  {
   "cell_type": "markdown",
   "id": "46dee90b-666b-4f5f-b0f2-7ee74bedba46",
   "metadata": {},
   "source": [
    "Q5. Can we create an instance of an abstract class? Explain your answer."
   ]
  },
  {
   "cell_type": "markdown",
   "id": "42249f56-6603-4851-a9cd-ca13e3b4f47b",
   "metadata": {},
   "source": [
    "no we  cannot create an instance  of an abstract class,bcz even if we create the functionality would bbe incomplete bcz abstract clsas is used for subclass"
   ]
  },
  {
   "cell_type": "code",
   "execution_count": null,
   "id": "9ba484b6-7fcf-4ac1-bcf7-ff2f721484ec",
   "metadata": {},
   "outputs": [],
   "source": []
  }
 ],
 "metadata": {
  "kernelspec": {
   "display_name": "Python 3 (ipykernel)",
   "language": "python",
   "name": "python3"
  },
  "language_info": {
   "codemirror_mode": {
    "name": "ipython",
    "version": 3
   },
   "file_extension": ".py",
   "mimetype": "text/x-python",
   "name": "python",
   "nbconvert_exporter": "python",
   "pygments_lexer": "ipython3",
   "version": "3.10.8"
  }
 },
 "nbformat": 4,
 "nbformat_minor": 5
}
