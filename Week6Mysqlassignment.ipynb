{
 "cells": [
  {
   "cell_type": "markdown",
   "id": "065df987-1fe9-4cbf-80bf-7428709a69b5",
   "metadata": {},
   "source": [
    "Q1. What is a database? Differentiate between SQL and NoSQL databases."
   ]
  },
  {
   "cell_type": "markdown",
   "id": "f9710ef4-514f-4acf-ba46-0df277acdeb3",
   "metadata": {},
   "source": [
    "Database means a storage system where the user data gets stored and gets uodated with time\n",
    "SQL: structured query language means its a schema database where we can only store structed data in a structured manner\n",
    "NOSQL: Not only SQL means its a schema-free database where structured ,semi-structured ,unstructed data can be stored"
   ]
  },
  {
   "cell_type": "markdown",
   "id": "88ab5fdd-fe5f-4fe3-9216-ffa3c6248883",
   "metadata": {},
   "source": [
    "Q2. What is DDL? Explain why CREATE, DROP, ALTER, and TRUNCATE are used with an example."
   ]
  },
  {
   "cell_type": "markdown",
   "id": "b4e3df80-53b5-426d-979b-20188e8a44cb",
   "metadata": {},
   "source": [
    "ANS :: data definition language(DDL) is used to create table in a database can alter the table ,drop truncate\n"
   ]
  },
  {
   "cell_type": "code",
   "execution_count": null,
   "id": "9402e4b7-6774-43e6-b137-e2e413e8d88c",
   "metadata": {},
   "outputs": [],
   "source": [
    "# CREATE DATABASE D1; # USED TO CREATE A DATABASE\n",
    "# CREATE TABLE students(ID int, name varchar(50)); # used to create a table\n",
    "# ALTER TABLE students add email_id text; # used to change the schema\n",
    "# TRUNCATE TABLE students ; # used to delete the table"
   ]
  },
  {
   "cell_type": "markdown",
   "id": "df3a7f5c-d351-401d-a30f-647e53ef4aa0",
   "metadata": {},
   "source": [
    "Q3. What is DML? Explain INSERT, UPDATE, and DELETE with an example."
   ]
  },
  {
   "cell_type": "markdown",
   "id": "e8075517-f99f-4887-912f-56400f5517ae",
   "metadata": {},
   "source": [
    "ANS:: Data manipulation language(DMl)is used to insert the recordds in table and can update ,delete the data from the table"
   ]
  },
  {
   "cell_type": "code",
   "execution_count": 3,
   "id": "48558473-bf6f-4f44-b336-773b98325d3c",
   "metadata": {},
   "outputs": [],
   "source": [
    "# INSERT INTO students(1,\"TAHER\",\"tahersadri36@gmail.com\"); # used to insert data into table \n",
    "# UPDATE students SET name=\"insiya\" WHERE ID=1;  # used to update the data in table\n",
    "# DELETE FROM students WHERE ID=1; # used to delete the data "
   ]
  },
  {
   "cell_type": "markdown",
   "id": "27fe3b1b-cbf0-4764-ab12-285bf1a803bb",
   "metadata": {},
   "source": [
    "Q4. What is DQL? Explain SELECT with an example."
   ]
  },
  {
   "cell_type": "markdown",
   "id": "1698d53f-57a8-4f32-a2c9-ec56887c15da",
   "metadata": {},
   "source": [
    "ANS:: Data query language is used to show the data in the database by using the commands like show,select"
   ]
  },
  {
   "cell_type": "code",
   "execution_count": 5,
   "id": "5c9c7885-a59b-4d5b-9dcb-da30cec260a4",
   "metadata": {},
   "outputs": [],
   "source": [
    "# SELECT * FROM students; ## used to display all the data present in the table"
   ]
  },
  {
   "cell_type": "markdown",
   "id": "4a2d50e6-4474-4bdf-9d3e-3d57efbfb065",
   "metadata": {},
   "source": [
    "Q5. Explain Primary Key and Foreign Key."
   ]
  },
  {
   "cell_type": "markdown",
   "id": "c0e68d0c-721e-4ce7-9211-71099973c60f",
   "metadata": {},
   "source": [
    "ANS :: Primary key is used to specify the table with its unique value like id,there can be only one primary key in one table \n",
    "foregn key is used to join the table to display the data there can be multiple foreign keys,foreign key means one's primary key is foreign key in other tables"
   ]
  },
  {
   "cell_type": "markdown",
   "id": "1219df0f-a47d-441f-bb5b-894639bd391c",
   "metadata": {},
   "source": [
    "Q6. Write a python code to connect MySQL to python. Explain the cursor() and execute() method."
   ]
  },
  {
   "cell_type": "code",
   "execution_count": 7,
   "id": "2ea2782b-e27e-4966-86ae-4b72ce98111f",
   "metadata": {},
   "outputs": [],
   "source": [
    "# import mysql.connector\n",
    "# # import mysql.connector\n",
    "# #create user 'user'@'%' identified by 'password'\n",
    "# mydb = mysql.connector.connect(\n",
    "#   host=\"localhost\",\n",
    "#   user=\"abc\",\n",
    "#   password=\"password\"\n",
    "# )\n",
    "# print(mydb)\n",
    "# mycursor = mydb.cursor()\n",
    "\n",
    "\n",
    "\n",
    "# ## cursor is used to point out the data one by one in the table,and execute is used to run the query "
   ]
  },
  {
   "cell_type": "markdown",
   "id": "28444be8-7632-4fc2-8d0b-f531183c79c1",
   "metadata": {},
   "source": [
    "Q7. Give the order of execution of SQL clauses in an SQL query."
   ]
  },
  {
   "cell_type": "code",
   "execution_count": 8,
   "id": "16d57e1a-0d8f-461b-8056-59fb349128e4",
   "metadata": {},
   "outputs": [],
   "source": [
    "# FROM\n",
    "# WHERE \n",
    "# GROUP BY\n",
    "# HAVING BY\n",
    "# SELECT\n",
    "# ORDER BY\n"
   ]
  },
  {
   "cell_type": "code",
   "execution_count": null,
   "id": "c1f8d447-0baf-4767-92fe-8e644b0560ef",
   "metadata": {},
   "outputs": [],
   "source": []
  }
 ],
 "metadata": {
  "kernelspec": {
   "display_name": "Python 3 (ipykernel)",
   "language": "python",
   "name": "python3"
  },
  "language_info": {
   "codemirror_mode": {
    "name": "ipython",
    "version": 3
   },
   "file_extension": ".py",
   "mimetype": "text/x-python",
   "name": "python",
   "nbconvert_exporter": "python",
   "pygments_lexer": "ipython3",
   "version": "3.10.8"
  }
 },
 "nbformat": 4,
 "nbformat_minor": 5
}
