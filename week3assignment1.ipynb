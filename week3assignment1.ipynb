{
 "cells": [
  {
   "cell_type": "markdown",
   "id": "182d6eb3-942a-48dc-824f-075f8ea4ebee",
   "metadata": {},
   "source": [
    "###Q1 def,lambda is the keyword to create a fucntion "
   ]
  },
  {
   "cell_type": "code",
   "execution_count": 20,
   "id": "cffd5eba-c88a-4b5e-91af-7c97f87bd3a9",
   "metadata": {},
   "outputs": [],
   "source": [
    "\n",
    "def odd(x,y):\n",
    "    l1=[]\n",
    "    for i in range(x,y):\n",
    "        if i%2 !=0 :\n",
    "            l1.append(i)\n",
    "    return l1"
   ]
  },
  {
   "cell_type": "code",
   "execution_count": 33,
   "id": "ca36c01f-9f66-4356-ac1c-9377f51a64e9",
   "metadata": {},
   "outputs": [
    {
     "name": "stdout",
     "output_type": "stream",
     "text": [
      "[1, 3, 5, 7, 9, 11, 13, 15, 17, 19, 21, 23, 25]\n"
     ]
    }
   ],
   "source": [
    "result=odd(1,26)\n",
    "print(result)"
   ]
  },
  {
   "cell_type": "markdown",
   "id": "5afba42f-105a-45dd-8c1e-4f9fb64efc54",
   "metadata": {},
   "source": [
    "#### Q2 "
   ]
  },
  {
   "cell_type": "code",
   "execution_count": 37,
   "id": "772b5cdc-da00-4bd0-95e6-99d8e242f3cf",
   "metadata": {},
   "outputs": [],
   "source": [
    "def negnumbers(*args):\n",
    "    total=0\n",
    "    for i in args:\n",
    "        total -= i\n",
    "        return total"
   ]
  },
  {
   "cell_type": "code",
   "execution_count": 38,
   "id": "a5eaf275-b8f5-46af-8ccd-2d734443e1e1",
   "metadata": {},
   "outputs": [
    {
     "name": "stdout",
     "output_type": "stream",
     "text": [
      "-1\n"
     ]
    }
   ],
   "source": [
    "result=negnumbers(1,2,3,4,5,6)\n",
    "print(result)"
   ]
  },
  {
   "cell_type": "code",
   "execution_count": 48,
   "id": "ffc91b0f-ee03-45ee-bb0b-23ff10149b6b",
   "metadata": {},
   "outputs": [],
   "source": [
    "def multiplekeyvalue(**kwargs):\n",
    "    for key, value in kwargs.items():\n",
    "        print(f\"{key}: {value}\")\n",
    "    return key,value\n",
    "\n"
   ]
  },
  {
   "cell_type": "code",
   "execution_count": 51,
   "id": "af44c5e9-5d22-4798-a295-8eb4627fc9b9",
   "metadata": {},
   "outputs": [
    {
     "name": "stdout",
     "output_type": "stream",
     "text": [
      "name: taher\n",
      "age: 21\n"
     ]
    }
   ],
   "source": [
    "result=multiplekeyvalue(name=\"taher\",age=21)\n"
   ]
  },
  {
   "cell_type": "markdown",
   "id": "115202ce-04c6-49f3-a4a4-2691afb7e3bb",
   "metadata": {},
   "source": [
    "##### Q3 What is an iterator in python? Name the method used to initialise the iterator object and the method\n",
    "### used for iteration. Use these methods to print the first five elements of the given list [2, 4, 6, 8, 10, 12, 14,\n",
    "16, 18, 20]."
   ]
  },
  {
   "cell_type": "code",
   "execution_count": 11,
   "id": "62af6dc7-ee34-46fd-8122-f602e413544d",
   "metadata": {},
   "outputs": [
    {
     "name": "stdout",
     "output_type": "stream",
     "text": [
      "2\n",
      "4\n",
      "6\n",
      "8\n",
      "10\n"
     ]
    }
   ],
   "source": [
    "# an iterator means that the fucntion or variable can be iterated multiple times\n",
    "#iterable means to convert the non iterator to iterator\n",
    "#method is \"iter\" and \"next\"\n",
    "\n",
    "\n",
    "# Given list\n",
    "my_list = [2, 4, 6, 8, 10, 12, 14, 16, 18, 20]\n",
    "\n",
    "# Initialize the iterator object\n",
    "iterator_obj = iter(my_list)\n",
    "\n",
    "# Iterate using the next() method and print the first five elements\n",
    "for _ in range(5):\n",
    "    current_element = next(iterator_obj, None)\n",
    "    if current_element is not None:\n",
    "        print(current_element)\n",
    "    else:\n",
    "        print(\"End of the list reached.\")\n",
    "        break\n"
   ]
  },
  {
   "cell_type": "markdown",
   "id": "d1ee15ed-41e0-4164-bbd4-73f583bd2d9a",
   "metadata": {},
   "source": [
    "### Q4 What is a generator function in python? Why yield keyword is used? Give an example of a generator function.\n",
    "### ans : geneerator function is used for yielding a element one by one without utilizing the whole memory space it uses a generator called as yeild which showss the element one by onee by using an iterator next\n",
    "\n",
    "\n",
    "\n"
   ]
  },
  {
   "cell_type": "code",
   "execution_count": 11,
   "id": "08ff5e88-484a-42d4-838b-034d6982d1e9",
   "metadata": {},
   "outputs": [
    {
     "name": "stdout",
     "output_type": "stream",
     "text": [
      "0\n",
      "1\n",
      "1\n",
      "2\n",
      "3\n",
      "5\n",
      "8\n",
      "13\n",
      "21\n",
      "34\n"
     ]
    }
   ],
   "source": [
    "def fibonacciser():\n",
    "    a,b=0,1\n",
    "    while True:\n",
    "        yield a\n",
    "        a,b=b,a+b\n",
    "        \n",
    "fibo=fibonacciser()\n",
    "for i in range(10):\n",
    "    print(next(fibo))"
   ]
  },
  {
   "cell_type": "markdown",
   "id": "f4eb2d94-5d88-48fc-96e5-fe0c80608b2b",
   "metadata": {},
   "source": [
    "### Q5 Create a generator function for prime numbers less than 1000. Use the next() method to print the\n",
    "### first 20 prime numbers."
   ]
  },
  {
   "cell_type": "code",
   "execution_count": 40,
   "id": "0f2fd7bf-0008-4cbd-8fd8-85764a850c50",
   "metadata": {},
   "outputs": [
    {
     "ename": "SyntaxError",
     "evalue": "invalid syntax (187761211.py, line 3)",
     "output_type": "error",
     "traceback": [
      "\u001b[0;36m  Cell \u001b[0;32mIn[40], line 3\u001b[0;36m\u001b[0m\n\u001b[0;31m    if i%=1:\u001b[0m\n\u001b[0m        ^\u001b[0m\n\u001b[0;31mSyntaxError\u001b[0m\u001b[0;31m:\u001b[0m invalid syntax\n"
     ]
    }
   ],
   "source": [
    "def prime_gen():\n",
    "    for i in range(1000):\n",
    "        if i%=1:\n",
    "            yield "
   ]
  },
  {
   "cell_type": "code",
   "execution_count": 1,
   "id": "d4f32e80-f206-48d3-ac07-8782f4d1fbd8",
   "metadata": {},
   "outputs": [
    {
     "name": "stdout",
     "output_type": "stream",
     "text": [
      "2\n",
      "3\n",
      "5\n",
      "7\n",
      "11\n",
      "13\n",
      "17\n",
      "19\n",
      "23\n",
      "29\n",
      "31\n",
      "37\n",
      "41\n",
      "43\n",
      "47\n",
      "53\n",
      "59\n",
      "61\n",
      "67\n",
      "71\n"
     ]
    }
   ],
   "source": [
    "def is_prime(num):\n",
    "    if num <= 1:\n",
    "        return False\n",
    "    for i in range(2, int(num**0.5) + 1):\n",
    "        if num % i == 0:\n",
    "            return False\n",
    "    return True\n",
    "\n",
    "def primes_generator():\n",
    "    num = 2\n",
    "    count = 0\n",
    "    while count < 20:\n",
    "        if is_prime(num):\n",
    "            yield num\n",
    "            count += 1\n",
    "        num += 1\n",
    "\n",
    "# Create a generator object\n",
    "prime_gen = primes_generator()\n",
    "\n",
    "# Print the first 20 prime numbers\n",
    "for _ in range(20):\n",
    "    print(next(prime_gen))\n"
   ]
  },
  {
   "cell_type": "markdown",
   "id": "e33e54dd-0a35-44e1-9e22-8987f2db9ca7",
   "metadata": {},
   "source": [
    "### Q6 Write a python program to print the first 10 Fibonacci numbers using a while loop."
   ]
  },
  {
   "cell_type": "code",
   "execution_count": 2,
   "id": "f27afefb-bcc0-4c78-ba15-59b360e74f6d",
   "metadata": {},
   "outputs": [
    {
     "name": "stdout",
     "output_type": "stream",
     "text": [
      "0\n",
      "1\n",
      "1\n",
      "2\n",
      "3\n",
      "5\n",
      "8\n",
      "13\n",
      "21\n",
      "34\n"
     ]
    }
   ],
   "source": [
    "def fibonacci_s():\n",
    "    c,d=0,1\n",
    "    while True:\n",
    "        yield c\n",
    "        c,d=d,c+d\n",
    "fib=fibonacci_s()\n",
    "for i in range(10):\n",
    "    print(next(fib))"
   ]
  },
  {
   "cell_type": "markdown",
   "id": "02a5c8fc-742d-43a8-ae89-f3a27d9fb776",
   "metadata": {},
   "source": [
    "####"
   ]
  },
  {
   "cell_type": "markdown",
   "id": "a0bebb71-8b34-403a-b7cb-2ac0ea189e6e",
   "metadata": {},
   "source": [
    "### Q7 Q7. Write a List Comprehension to iterate through the given string: ‘pwskills’. Expected output: ['p', 'w', 's', 'k', 'i', 'l', 'l', 's']"
   ]
  },
  {
   "cell_type": "code",
   "execution_count": 9,
   "id": "acd56d34-b615-4410-af5e-7a654cfe67e4",
   "metadata": {},
   "outputs": [
    {
     "name": "stdout",
     "output_type": "stream",
     "text": [
      "['p', 'w', 's', 'k', 'i', 'l', 'l', 's']\n"
     ]
    }
   ],
   "source": [
    "lists='pwskills'\n",
    "l=[i for i in lists]\n",
    "print(l)"
   ]
  },
  {
   "cell_type": "markdown",
   "id": "dba2640e-ca51-4834-9510-147319621a7e",
   "metadata": {},
   "source": [
    "Q8. Write a python program to check whether a given number is Palindrome or not using a while loop."
   ]
  },
  {
   "cell_type": "code",
   "execution_count": 21,
   "id": "76fe21a0-a31b-4a70-8e2c-28f6b110d9cb",
   "metadata": {},
   "outputs": [
    {
     "name": "stdin",
     "output_type": "stream",
     "text": [
      "Enter a number:  11211\n"
     ]
    },
    {
     "name": "stdout",
     "output_type": "stream",
     "text": [
      "11211 is a palindrome number.\n"
     ]
    }
   ],
   "source": [
    "def is_palindrome(number):\n",
    "    original_number = number\n",
    "    reversed_number = 0\n",
    "    \n",
    "    while number > 0:\n",
    "        digit = number % 10\n",
    "        reversed_number = reversed_number * 10 + digit\n",
    "        number = number // 10\n",
    "    \n",
    "    if original_number == reversed_number:\n",
    "        return True\n",
    "    else:\n",
    "        return False\n",
    "\n",
    "num = int(input(\"Enter a number: \"))\n",
    "\n",
    "if is_palindrome(num):\n",
    "    print(num, \"is a palindrome number.\")\n",
    "else:\n",
    "    print(num, \"is not a palindrome number.\")\n"
   ]
  },
  {
   "cell_type": "markdown",
   "id": "986ad63d-5b31-4e92-9e5d-ecf0cecebb19",
   "metadata": {},
   "source": [
    "Q9. Write a code to print odd numbers from 1 to 100 using list comprehension."
   ]
  },
  {
   "cell_type": "code",
   "execution_count": 23,
   "id": "6d6010fd-e477-48e9-a276-6e2da1921258",
   "metadata": {},
   "outputs": [
    {
     "name": "stdout",
     "output_type": "stream",
     "text": [
      "[1, 3, 5, 7, 9, 11, 13, 15, 17, 19, 21, 23, 25, 27, 29, 31, 33, 35, 37, 39, 41, 43, 45, 47, 49, 51, 53, 55, 57, 59, 61, 63, 65, 67, 69, 71, 73, 75, 77, 79, 81, 83, 85, 87, 89, 91, 93, 95, 97, 99, 101]\n"
     ]
    }
   ],
   "source": [
    "\n",
    "numbers = [num for num in range(1, 102)]\n",
    "\n",
    "odd_numbers = [num for num in numbers if num % 2 != 0]\n",
    "print(odd_numbers)\n"
   ]
  },
  {
   "cell_type": "code",
   "execution_count": null,
   "id": "8b3c2fd4-c1ee-4cc3-a5e1-15db8beaca2c",
   "metadata": {},
   "outputs": [],
   "source": []
  }
 ],
 "metadata": {
  "kernelspec": {
   "display_name": "Python 3 (ipykernel)",
   "language": "python",
   "name": "python3"
  },
  "language_info": {
   "codemirror_mode": {
    "name": "ipython",
    "version": 3
   },
   "file_extension": ".py",
   "mimetype": "text/x-python",
   "name": "python",
   "nbconvert_exporter": "python",
   "pygments_lexer": "ipython3",
   "version": "3.10.8"
  }
 },
 "nbformat": 4,
 "nbformat_minor": 5
}
