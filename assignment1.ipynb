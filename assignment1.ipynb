{
  "metadata": {
    "language_info": {
      "codemirror_mode": {
        "name": "python",
        "version": 3
      },
      "file_extension": ".py",
      "mimetype": "text/x-python",
      "name": "python",
      "nbconvert_exporter": "python",
      "pygments_lexer": "ipython3",
      "version": "3.8"
    },
    "kernelspec": {
      "name": "python",
      "display_name": "Python (Pyodide)",
      "language": "python"
    }
  },
  "nbformat_minor": 4,
  "nbformat": 4,
  "cells": [
    {
      "cell_type": "code",
      "source": "#Q1 solution\nvar1=\"taher\",[1,2,3,True],52.45,{2,4,6,False}",
      "metadata": {
        "trusted": true
      },
      "execution_count": 2,
      "outputs": []
    },
    {
      "cell_type": "code",
      "source": "print(var1)",
      "metadata": {
        "trusted": true
      },
      "execution_count": 3,
      "outputs": [
        {
          "name": "stdout",
          "text": "('taher', [1, 2, 3, True], 52.45, {False, 2, 4, 6})\n",
          "output_type": "stream"
        }
      ]
    },
    {
      "cell_type": "code",
      "source": "#Q2 solution\n    # var1 = \" \"\n    var2 = \"[ DS , ML , Python]\"\n    var3 = [ \"DS\" , \"ML\" , \"Python\" ]\n    var4 = 1.\nprint(type(var1,var2,var3,var4))",
      "metadata": {
        "trusted": true
      },
      "execution_count": 8,
      "outputs": [
        {
          "ename": "<class 'IndentationError'>",
          "evalue": "unexpected indent (<ipython-input-8-a445567e8c02>, line 3)",
          "traceback": [
            "\u001b[0;36m  Cell \u001b[0;32mIn[8], line 3\u001b[0;36m\u001b[0m\n\u001b[0;31m    var2 = \"[ DS , ML , Python]\"\u001b[0m\n\u001b[0m    ^\u001b[0m\n\u001b[0;31mIndentationError\u001b[0m\u001b[0;31m:\u001b[0m unexpected indent\n"
          ],
          "output_type": "error"
        }
      ]
    },
    {
      "cell_type": "code",
      "source": "#Q3 solution\na=5\nb=2\nprint(a/b)\nprint(a%b)\nprint(a//b)\nprint(a**b)\n",
      "metadata": {
        "trusted": true
      },
      "execution_count": 9,
      "outputs": [
        {
          "name": "stdout",
          "text": "2.5\n1\n2\n25\n",
          "output_type": "stream"
        }
      ]
    },
    {
      "cell_type": "code",
      "source": "#Q4 solution\nl=[1,2,3,True,\"Taher\",53.43,False,5,65.6,10,\"sadriwala\"]\nfor i in l:\n    print(i , type(i))",
      "metadata": {
        "trusted": true
      },
      "execution_count": 12,
      "outputs": [
        {
          "name": "stdout",
          "text": "1 <class 'int'>\n2 <class 'int'>\n3 <class 'int'>\nTrue <class 'bool'>\nTaher <class 'str'>\n53.43 <class 'float'>\nFalse <class 'bool'>\n5 <class 'int'>\n65.6 <class 'float'>\n10 <class 'int'>\nsadriwala <class 'str'>\n",
          "output_type": "stream"
        }
      ]
    },
    {
      "cell_type": "code",
      "source": "#Q6 solution\n\nl=[1,2,3,4,5,6,7,8,9,10,11,12,13,14,15,16,17,18,19,20,21,22,23,24,25]\nfor i in l:\n    if i%3==0 :\n        print(i,\"number is divisible \")\nelse:\n    print(\" remaining number is not divisible by 3\")",
      "metadata": {
        "trusted": true
      },
      "execution_count": 20,
      "outputs": [
        {
          "name": "stdout",
          "text": "3 number is divisible \n6 number is divisible \n9 number is divisible \n12 number is divisible \n15 number is divisible \n18 number is divisible \n21 number is divisible \n24 number is divisible \n remaining number is not divisible by 3\n",
          "output_type": "stream"
        }
      ]
    },
    {
      "cell_type": "code",
      "source": "s=\"Taher\" #immutable\nl=[1,2,3,\"sadri\",True] #mutable\n#checking mutability\nl[2]=False #we can change values in list by giving certain index\n#s[2]=\"s\"\nprint(s,l) # it will throw error bcz we cant change value in string\nl",
      "metadata": {
        "trusted": true
      },
      "execution_count": 24,
      "outputs": [
        {
          "name": "stdout",
          "text": "Taher [1, 2, False, 'sadri', True]\n",
          "output_type": "stream"
        },
        {
          "execution_count": 24,
          "output_type": "execute_result",
          "data": {
            "text/plain": "[1, 2, False, 'sadri', True]"
          },
          "metadata": {}
        }
      ]
    },
    {
      "cell_type": "code",
      "source": "",
      "metadata": {},
      "execution_count": null,
      "outputs": []
    }
  ]
}